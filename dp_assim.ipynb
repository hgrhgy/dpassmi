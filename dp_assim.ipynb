{
 "cells": [
  {
   "cell_type": "markdown",
   "metadata": {},
   "source": [
    "## 双摆锤同化系统\n",
    "> [本实验引用至雷丁大学的 Ross Bannister 教授的工作](http://www.met.rdg.ac.uk/~ross/DARC/DPVar/DocDPVar.html)\n",
    "\n",
    "数值天气预报中的数据同化太复杂，需要大量了天气预报的相关知识，才能理解其原理。为了没有天气预报知识的背景的同学快速了解和掌握数据同化技术的思路和原理，我们引入了一个简单的模型-双摆锤系统模型，只需要非常简单的物理知识即可了解其运动过程。与天气预报成千上万个状态参数来描述不同，双摆锤模型只需要4个状态参数，分别是摆锤的两个角度和两个角速度。通过双摆锤模型的同化实验能够更快理解同化系统是怎样运行的和关键的地方在哪里，便于进一步理解同化在数值天气预报和其他方面的应用。\n",
    "\n",
    "### 双摆锤介绍\n",
    "\n",
    "双摆锤由两部分组成，在一个固定点挂有质量为$m_1$的摆锤1，摆锤1距离固定点的长度为$l_1$，摆锤1与固定点的连线与垂直方向的夹角记为$\\theta_1$，摆锤1下挂摆锤2，摆锤2的质量$m_2$，摆锤1和2的长度为$l_2$，摆锤1与摆锤2之间的连线与垂直方向上的夹角记为$\\theta_2$，如下图所示。\n",
    "<img src=\"res/dp_system.png\" height=\"400px\" width=\"600px\"/>\n"
   ]
  },
  {
   "cell_type": "markdown",
   "metadata": {},
   "source": [
    "### 双摆锤系统物理学原理解释\n",
    "\n",
    "#### 1. 构造拉格朗日量（LAGRANGIAN）\n",
    "若系统状态能够通过广义坐标x和时间t的函数来描述，则广义坐标关于时间的函数可通过拉格朗日方程解出。根据Newton第二定律，确定了质点系的初始位置和初始速度即可知道保守系系统的演化，则LAGRANGIAN表示为：\n",
    "$$\n",
    "L = T - V\n",
    "$$\n",
    "\n",
    "其中$T$和$V$分别代表系统的动能和势能, 变量上面带·的代表改变量变化的速率。\n",
    "\n",
    "$$\n",
    "\\begin{align}\n",
    "T &= -gm_1l_1\\cos\\theta_1 - gm_2(l_1\\cos\\theta_1 + l_2\\cos\\theta_2) \\\\\n",
    "V &= \\frac{1}{2}m_1(\\dot x_1^2+\\dot y_1^2) + \\frac{1}{2}m_2(\\dot x_2^2+\\dot y_2^2)\n",
    "\\end{align}\n",
    "$$\n",
    "\n",
    "其中$x,y$代表摆锤的位置，上面带一个点的代表该变量的变化速率，带入即可求出拉格朗日量。\n",
    "\n",
    "$$\n",
    "\\begin{align}\n",
    "x_1 &= l_1 \\sin \\theta_1 \\\\\n",
    "y_1 &= -l_1 \\cos \\theta_1 \\\\\n",
    "x_2 &= l_1 \\sin \\theta_1 + l_2 \\sin \\theta_2\\\\\n",
    "y_2 &= -l_1 \\cos \\theta_1 - l_2 \\cos \\theta_2\\\\\n",
    "\\dot x_1 &= l_1 \\cos \\theta_1 \\dot\\theta_1 \\\\\n",
    "\\dot y_1 &= -l_1 \\sin \\theta_1 \\dot\\theta_1 \\\\\n",
    "\\dot x_2 &= l_1 \\cos \\theta_1 \\dot\\theta_1+ l_2 \\cos \\theta_2\\dot\\theta_2\\\\\n",
    "\\dot y_2 &= -l_1 \\sin \\theta_1 \\dot\\theta_1- l_2 \\sin \\theta_2\\dot\\theta_2\n",
    "\\end{align}\n",
    "$$\n",
    "\n",
    "\n",
    "#### 2. 动力学方程\n",
    "对于每个自由度$i$，均有：\n",
    "$$\n",
    "\\frac {d}{dt}( \\frac{\\partial L}{\\partial \\dot \\theta_i}) = \\frac{\\partial L}{\\partial \\theta_i}\n",
    "$$\n",
    "\n",
    "对t全微分展开,$j = 1,2$：\n",
    "$$\n",
    "\\sum_j\\frac{\\partial^2 L}{\\partial \\dot\\theta_i \\partial \\theta_j}\\dot\\theta_j + \\sum_j\\frac{\\partial^2L}{\\partial \\dot \\theta_i \\partial \\dot\\theta_j}\\ddot\\theta_j =  \\frac{\\partial L}{\\partial \\theta_i}\n",
    "$$\n",
    "\n",
    "令：\n",
    "$$\n",
    "A_{ij} = \\frac{\\partial^2 L}{\\partial \\dot\\theta_i \\partial \\theta_j} \\\\\n",
    "B_{ij} = \\frac{\\partial^2L}{\\partial \\dot \\theta_i \\partial \\dot\\theta_j}\n",
    "$$\n",
    "\n",
    "则：\n",
    "$$\n",
    "A\\left\\lgroup\\begin{matrix} \\dot\\theta_1 \\cr \\dot\\theta_2 \\end{matrix}\\right\\rgroup + B\\left\\lgroup\\begin{matrix} \\ddot\\theta_1 \\cr \\ddot\\theta_2 \\end{matrix}\\right\\rgroup = \\left\\lgroup\\begin{matrix} {\\partial L}/{\\partial \\theta_1} \\cr {\\partial L}/{\\partial \\theta_2} \\end{matrix}\\right\\rgroup\n",
    "$$\n"
   ]
  },
  {
   "cell_type": "code",
   "execution_count": 5,
   "metadata": {
    "pycharm": {
     "is_executing": false
    }
   },
   "outputs": [],
   "source": [
    "import math\n",
    "import numpy as np \n",
    "import matplotlib.pyplot as plt\n",
    "\n",
    "# 设置随机数种子\n",
    "np.random.seed(1357)"
   ]
  },
  {
   "cell_type": "code",
   "execution_count": 6,
   "metadata": {
    "pycharm": {
     "name": "#%%\n"
    }
   },
   "outputs": [],
   "source": [
    "\"\"\"\n",
    "拉格朗日系统\n",
    "\"\"\"\n",
    "\n",
    "# 摆锤1 坐标X\n",
    "def x1(l1, th1):\n",
    "    \"\"\"\n",
    "    计算摆锤1的坐标X\n",
    "    :param l1:  锤摆1长度\n",
    "    :param th1: 锤摆1角度\n",
    "    :return:  摆锤X坐标\n",
    "    \"\"\"\n",
    "    return l1 * math.sin(th1)\n",
    "\n",
    "# 摆锤1 坐标Y\n",
    "def y1(l1, th1):\n",
    "    \"\"\"\n",
    "    计算摆锤1的坐标Y\n",
    "    :param l1: 锤摆1长度\n",
    "    :param th1: 锤摆1角度\n",
    "    :return: 摆锤Y坐标\n",
    "    \"\"\"\n",
    "    return -l1 * math.cos(th1)\n",
    "\n",
    "# 摆锤2 坐标X\n",
    "def x2(l1, l2, th1, th2):\n",
    "    \"\"\"\n",
    "    计算摆锤2的坐标X\n",
    "    :param l1: 锤摆1长度\n",
    "    :param l2: 锤摆2长度\n",
    "    :param th1: 锤摆1角度\n",
    "    :param th2: 锤摆2角度\n",
    "    :return: \n",
    "    \"\"\"\n",
    "    return l1 * math.sin(th1) + l2 * math.sin(th2)\n",
    "\n",
    "# 摆锤2 坐标Y\n",
    "def y2(l1, l2, th1, th2):\n",
    "    \"\"\"\n",
    "    计算摆锤2的坐标Y\n",
    "    :param l1: 锤摆1长度\n",
    "    :param l2: 锤摆2长度\n",
    "    :param th1: 锤摆1角度\n",
    "    :param th2: 锤摆2角度\n",
    "    :return: \n",
    "    \"\"\"\n",
    "    return -l1 * math.cos(th1) - l2 * math.cos(th2)\n",
    "\n",
    "# 摆锤1 坐标X变化速率\n",
    "def x1_dot(l1, th1, th1_rate):\n",
    "    return l1 * math.cos(th1) * th1_rate\n",
    "\n",
    "# 摆锤1 坐标Y变化速率\n",
    "def y1_dot(l1, th1, th1_rate):\n",
    "    return l1 * math.sin(th1) * th1_rate\n",
    "\n",
    "# 摆锤2 坐标X变化速率\n",
    "def x2_dot(l1, th1, th1_rate, l2, th2, th2_rate):\n",
    "    return l1 * math.cos(th1) * th1_rate +  l2 * math.cos(th2) * th2_rate\n",
    "\n",
    "# 摆锤2 坐标Y变化速率\n",
    "def y2_dot(l1, th1, th1_rate, l2, th2, th2_rate):\n",
    "    return l1 * math.sin(th1) * th1_rate + l2 * math.cos(th2) * th2_rate\n",
    "\n",
    "# 系统能量\n",
    "def LAG(m1, m2, l1, l2, th1, th2, th1_rate, th2_rate, g):\n",
    "    y1_value = y1(l1, th1)\n",
    "    y2_value = y2(l1, th1, l2, th2)\n",
    "    x1_rate = x1_dot(l1, th1, th1_rate)\n",
    "    y1_rate = y1_dot(l1, th1, th1_rate)\n",
    "    x2_rate = x2_dot(l1, th1, th1_rate, l2, th2, th2_rate)\n",
    "    y2_rate = y2_dot(l1, th1, th1_rate, l2, th2, th2_rate)\n",
    "    L = T(m1, m2, x1_rate, y1_rate, x2_rate, y2_rate) - V(m1, m2, g, y1_value, y2_value)\n",
    "    return L\n",
    "\n",
    "# 势能\n",
    "def V(m1, m2, g, y1, y2):\n",
    "    return m1 * g * y1 + m2 * g * y2\n",
    "\n",
    "# 动能\n",
    "def T(m1, m2, x1_rate, y1_rate, x2_rate, y2_rate):\n",
    "    return 0.5 * (m1 * (x1_rate * x1_rate + y1_rate * y1_rate) + m2 * (x2_rate * x2_rate + y2_rate * y2_rate))\n",
    "\n",
    "def state2xy(state, l1, l2, m1, m2):\n",
    "    return x1(l1, state[0]), y1(l1, state[0]),x2(l1, l2 , state[0], state[1]), y2(l1, l2, state[0], state[1])"
   ]
  },
  {
   "cell_type": "markdown",
   "metadata": {},
   "source": [
    "#### 3. 一阶转换\n",
    "\n",
    "因为：\n",
    "$$\n",
    "A\\left\\lgroup\\begin{matrix} \\dot\\theta_1 \\cr \\dot\\theta_2 \\end{matrix}\\right\\rgroup + B\\left\\lgroup\\begin{matrix} \\ddot\\theta_1 \\cr \\ddot\\theta_2 \\end{matrix}\\right\\rgroup = \\left\\lgroup\\begin{matrix} {\\partial L}/{\\partial \\theta_1} \\cr {\\partial L}/{\\partial \\theta_2} \\end{matrix}\\right\\rgroup\n",
    "$$\n",
    "\n",
    "是二阶的等式，令 $\\alpha_{i}=\\dot\\theta_i$，所以 $\\dot\\alpha_i=\\ddot\\theta_i$，因此有：\n",
    "\n",
    "$$\n",
    "\\frac{d}{dt} \n",
    "\\left(\n",
    "\\begin{matrix}\n",
    "\\theta_1 \\\\\n",
    "\\theta_2 \\\\\n",
    "\\alpha_1 \\\\\n",
    "\\alpha_2 \\\\\n",
    "\\end{matrix}\n",
    "\\right) \\\n",
    "= \\\n",
    "\\left(\n",
    "\\begin{matrix}\n",
    "0 & I \\\\\n",
    "0 & -B^{-1}A \\\\\n",
    "\\end{matrix}\n",
    "\\right) \\\n",
    "\\left(\n",
    "\\begin{matrix}\n",
    "\\theta_1 \\\\\n",
    "\\theta_2 \\\\\n",
    "\\alpha_1 \\\\\n",
    "\\alpha_2 \\\\\n",
    "\\end{matrix}\n",
    "\\right) \\\n",
    "+ \\\n",
    "\\left(\n",
    "\\begin{matrix}\n",
    "0 \\\\\n",
    "0 \\\\\n",
    "B^{-1} \n",
    "\\left(\n",
    "\\begin{matrix}\n",
    "\\partial L / \\partial \\theta_1 \\\\\n",
    "\\partial L / \\partial \\theta_2 \\\\\n",
    "\\end{matrix}\n",
    "\\right) \\\n",
    "\\end{matrix}\n",
    "\\right) \\\n",
    "$$\n",
    "\n",
    "\n"
   ]
  },
  {
   "cell_type": "code",
   "execution_count": 7,
   "metadata": {
    "pycharm": {
     "is_executing": false
    }
   },
   "outputs": [],
   "source": [
    "def A(th1, th2, al1, al2, m1, m2, l1, l2):\n",
    "    a11 = -m2 * l1 * l2 * al2 * math.sin(th1 - th2)\n",
    "    a12 = m2 * l1 * l2 * al2 * math.sin(th1 - th2)\n",
    "    a21 = -m2 * l1 * l2 * al1 * math.sin(th1 - th2)\n",
    "    a22 = m2 * l1 * l2 * al1 * math.sin(th1 - th2)\n",
    "    return np.array([\n",
    "        [a11, a12],\n",
    "        [a21, a22]\n",
    "    ])\n",
    "\n",
    "def B(th1, th2, al1, al2, m1, m2, l1, l2):\n",
    "    b11 = (m1 + m2) * l1 * l1\n",
    "    b12 = m2 * l1 * l2 * math.cos(th1 -th2)\n",
    "    b21 = m2 * l1 * l2 * math.cos(th1 - th2)\n",
    "    b22 = m2 * l2 * l2\n",
    "    \n",
    "    return np.array([\n",
    "        [b11,b12],\n",
    "        [b21,b22]\n",
    "    ])\n",
    "\n",
    "def B_inv(th1, th2, al1, al2, m1, m2, l1, l2):\n",
    "    b11 = (m1 + m2) * l1 * l1\n",
    "    b12 = m2 * l1 * l2 * math.cos(th1 - th2)\n",
    "    b21 = m2 * l1 * l2 * math.cos(th1 - th2)\n",
    "    b22 = m2 * l2 * l2\n",
    "    \n",
    "    \n",
    "    v = (1 / (b11 * b22 - b12 * b21)) * np.array([\n",
    "        [b22, -b12],\n",
    "        [-b21, b11]\n",
    "    ])\n",
    "\n",
    "    return v\n",
    "\n",
    "def partial_th1(th1, th2, al1, al2, m1, m2, l1, l2, g):\n",
    "    return -m2 * l1 * l2 * al1 * al2 * math.sin(th1 - th2) - g * (m1 + m2) * l1 * math.sin(th1)\n",
    "    \n",
    "    \n",
    "def partial_th2(th1, th2, al1, al2, m1, m2, l1, l2, g):\n",
    "    return m2 * l1 * l2 * al1 * al2 * math.sin(th1 - th2) - g * m2 * l2 * math.sin(th2)\n",
    "\n",
    "def F(th1, th2, al1, al2, m1, m2, l1, l2, g):\n",
    "    I = np.eye(2,2)\n",
    "    Z = np.zeros((2,2))\n",
    "    mat_B_inv = B_inv(th1, th2, al1, al2, m1, m2, l1, l2)\n",
    "    mat_A = A(th1, th2, al1, al2, m1, m2, l1, l2)\n",
    "    par_th1 = partial_th1(th1, th2, al1, al2, m1, m2, l1, l2, g)\n",
    "    par_th2 = partial_th2(th1, th2, al1, al2, m1, m2, l1, l2, g)\n",
    "    tb = np.matmul(-mat_B_inv, mat_A)\n",
    "    scale_mat = np.matmul(np.array([\n",
    "        [0 , 0, 1, 0],\n",
    "        [0 , 0, 0, 1],\n",
    "        [0 , 0, tb[0][0], tb[0][1]],\n",
    "        [0 , 0, tb[1][0], tb[1][1]],\n",
    "    ]) , np.array([th1, th2 , al1, al2]).transpose())\n",
    "    \n",
    "    b = np.matmul(mat_B_inv, np.array([par_th1, par_th2]).transpose())\n",
    "    offset_mat = np.array([0,0,b[0], b[1]])\n",
    "    \n",
    "    return scale_mat + offset_mat\n",
    "    \n",
    "def deg2rad(deg):\n",
    "    \"\"\"\n",
    "    角度转换为弧度\n",
    "    :param deg: 角度，单位度\n",
    "    :return: \n",
    "    \"\"\"\n",
    "    return deg * math.pi / 180.0\n",
    "\n",
    "def map2pi(rad):\n",
    "    \"\"\"\n",
    "    弧度转化，把不在[-PI, PI]内的弧度转化为[-PI, PI]\n",
    "    :param rad: \n",
    "    :return: \n",
    "    \"\"\"\n",
    "    if rad < -math.pi:\n",
    "        return rad + 2 * math.pi\n",
    "    elif rad > math.pi:\n",
    "        return rad - 2 * math.pi\n",
    "    return rad"
   ]
  },
  {
   "cell_type": "markdown",
   "metadata": {},
   "source": [
    "#### 4. 龙格库塔求解\n"
   ]
  },
  {
   "cell_type": "code",
   "execution_count": 8,
   "metadata": {
    "pycharm": {
     "is_executing": false
    }
   },
   "outputs": [],
   "source": [
    "def runge_kutt_4(th1, th2, al1, al2, m1, m2, l1, l2, g, dt):\n",
    "    state = [th1, th2, al1, al2]\n",
    "    # stage 1 \n",
    "    state1 = state\n",
    "    k1 = F(state1[0],state1[1],state1[2],state1[3], m1, m2, l1, l2, g) * dt\n",
    "    #stage 2\n",
    "    state2 = k1 / 2 + state\n",
    "    k2 = F(state2[0],state2[1],state2[2],state2[3], m1, m2, l1, l2, g) * dt\n",
    "    \n",
    "    #stage 3\n",
    "    state3 = k2 / 2 + state\n",
    "    k3 = F(state3[0],state3[1],state3[2],state3[3], m1, m2, l1, l2, g) * dt\n",
    "    \n",
    "    #stage 4\n",
    "    state4 = k3 + state\n",
    "    k4 = F(state4[0],state4[1],state4[2],state4[3], m1, m2, l1, l2, g) * dt\n",
    "    \n",
    "    # calc y\n",
    "    state_dt = state + k1 / 6 + k2 / 3 + k3 / 3 + k4 / 6\n",
    "    \n",
    "\n",
    "    # 限制在 -pi 到 pi 之间\n",
    "    state_dt[0] = map2pi(state_dt[0])\n",
    "    state_dt[1] = map2pi(state_dt[1])\n",
    "    \n",
    "    return state_dt\n",
    "    pass\n"
   ]
  },
  {
   "cell_type": "markdown",
   "metadata": {},
   "source": [
    "### 参数配置信息\n",
    "包含三个部分：\n",
    "- 通用参数： 定义了运行模式，初始位置状态，双摆锤基础参数（摆轴长，锤质量，重力加速度，时间步长，积分时间）\n",
    "- MakeObs相关参数：定义了观测频率，观测噪声\n",
    "- Analyse相关参数：定义了观测窗口时间，观测值\n"
   ]
  },
  {
   "cell_type": "code",
   "execution_count": 9,
   "metadata": {
    "pycharm": {
     "is_executing": false
    }
   },
   "outputs": [],
   "source": [
    "# --Status ('MakeObs' to invent observations, 'Analyse' to do 4dVar)\n",
    "mode = \"MakeObs\"\n",
    "# Dimensions of pendulum (l1,l2,l3, metres)\n",
    "l1 = 0.1\n",
    "l2 = 0.2\n",
    "l3 = 0.15\n",
    "# Masses of pendulum nodes (m1,m2,m3, kg)\n",
    "m1 = 0.1\n",
    "m2 = 0.1 \n",
    "m3 = 0.1\n",
    "# Acceleration due to gravity (m/s/s)\n",
    "g = 10.0\n",
    "# Time step (seconds)\n",
    "time_step = 0.001\n",
    "#Frequency of observation output (used only for MakeObs)\n",
    "obs_freq = 50\n",
    "# Length of integration (time steps)\n",
    "length_of_integration = 5000\n",
    "# Model state (initial guess(Analyse) or initial conditions(MakeObs)) angle 1,angle 2, roc angle 1, roc angle 2 (deg and deg/s)\n",
    "angle1 = 160.0\n",
    "angle2 = 100.0\n",
    "roc_angle1 = -350.0\n",
    "roc_angle2 = 100.0\n",
    "\n",
    "#Noise for angles (deg, used only for MakeObs)\n",
    "noise_pos = 5.0\n",
    "#Noise for roc angles (deg/s used only for MakeObs)\n",
    "noise_vel = 0.0\n",
    "\n",
    "# Size of each observation window (time steps)\n",
    "obs_window = 500"
   ]
  },
  {
   "cell_type": "code",
   "execution_count": 10,
   "metadata": {
    "pycharm": {
     "is_executing": false
    }
   },
   "outputs": [
    {
     "name": "stdout",
     "output_type": "stream",
     "text": [
      "[ 2.78640648  1.74706098 -6.13206198  1.71817166]\n"
     ]
    }
   ],
   "source": [
    "# 测试拉格朗日计算\n",
    "#print(LAG(m1, m2, l1, l2, deg2rad(angle1), deg2rad(angle2), deg2rad(roc_angle1), deg2rad(roc_angle2), g))\n",
    "#print(F( deg2rad(angle1), deg2rad(angle2), deg2rad(roc_angle1), deg2rad(roc_angle2), m1, m2, l1, l2, g ))\n",
    "\n",
    "s = [deg2rad(angle1), deg2rad(angle2), deg2rad(roc_angle1), deg2rad(roc_angle2)]\n",
    "#print(s)\n",
    "print(runge_kutt_4(deg2rad(angle1), deg2rad(angle2), deg2rad(roc_angle1), deg2rad(roc_angle2), m1, m2, l1, l2, g, time_step))"
   ]
  },
  {
   "cell_type": "code",
   "execution_count": 11,
   "metadata": {
    "pycharm": {
     "is_executing": false
    }
   },
   "outputs": [],
   "source": [
    "def make_obs(th1, th2, al1, al2, m1, m2, l1, l2, noi_pos, noi_vel, g, dt, times  ):\n",
    "    state = [th1, th2, al1, al2]\n",
    "    sarr = []\n",
    "    for i in range(0,times):\n",
    "        sarr.append(state)\n",
    "        state = runge_kutt_4(state[0],state[1],state[2],state[3], m1, m2, l1, l2, g, dt)\n",
    "    return sarr\n",
    "    pass\n",
    "\n",
    "def make_obs_for_assmi(th1, th2, al1, al2, m1, m2, l1, l2, noi_pos, noi_vel, g, dt, times, freq):\n",
    "    state = [th1, th2, al1, al2]\n",
    "    sarr = []\n",
    "    for i in range(0,times):\n",
    "        state = runge_kutt_4(state[0],state[1],state[2],state[3], m1, m2, l1, l2, g, dt)\n",
    "        if i % 50 == 0:\n",
    "            obs = []\n",
    "            obs.append(i)\n",
    "            obs.append(state[0] + 2 * (np.random.rand() - 0.5) * noi_pos)\n",
    "            obs.append(state[1]+ 2 * (np.random.rand() - 0.5) * noi_pos)\n",
    "            obs.append(noi_pos)\n",
    "            \n",
    "            sarr.append(obs)\n",
    "            \n",
    "    return sarr\n",
    "    pass"
   ]
  },
  {
   "cell_type": "code",
   "execution_count": 12,
   "metadata": {
    "pycharm": {
     "is_executing": false
    }
   },
   "outputs": [],
   "source": [
    "sarr = make_obs(deg2rad(angle1), deg2rad(angle2), deg2rad(roc_angle1), deg2rad(roc_angle2),\n",
    "               m1, m2, l1, l2, deg2rad(noise_pos), deg2rad(noise_vel), g, time_step, length_of_integration )\n",
    "\n",
    "oarr = make_obs_for_assmi(deg2rad(angle1), deg2rad(angle2), deg2rad(roc_angle1), deg2rad(roc_angle2),\n",
    "               m1, m2, l1, l2, deg2rad(noise_pos), deg2rad(noise_vel), g, \n",
    "                          time_step, int(length_of_integration * 0.4), obs_freq)"
   ]
  },
  {
   "cell_type": "code",
   "execution_count": 13,
   "metadata": {
    "pycharm": {
     "is_executing": false,
     "name": "#%%\n"
    }
   },
   "outputs": [
    {
     "data": {
      "image/png": "[encoded data removed]",
      "text/plain": [
       "<Figure size 432x288 with 1 Axes>"
      ]
     },
     "metadata": {
      "needs_background": "light"
     },
     "output_type": "display_data"
    },
    {
     "data": {
      "image/png": "[encoded data removed]",
      "text/plain": [
       "<Figure size 432x288 with 1 Axes>"
      ]
     },
     "metadata": {
      "needs_background": "light"
     },
     "output_type": "display_data"
    }
   ],
   "source": [
    "plt.plot(range(0, len(sarr)), [s[0] for s in sarr])\n",
    "plt.scatter([s[0] for s in oarr] ,[s[1] for s in oarr], color='r')\n",
    "plt.show()\n",
    "\n",
    "plt.plot(range(0, len(sarr)), [s[1] for s in sarr])\n",
    "plt.scatter([s[0] for s in oarr] ,[s[2] for s in oarr], color='r')\n",
    "plt.show()"
   ]
  },
  {
   "cell_type": "code",
   "execution_count": 14,
   "metadata": {
    "pycharm": {
     "is_executing": false
    }
   },
   "outputs": [
    {
     "data": {
      "image/png": "[encoded data removed]",
      "text/plain": [
       "<Figure size 432x288 with 1 Axes>"
      ]
     },
     "metadata": {
      "needs_background": "light"
     },
     "output_type": "display_data"
    }
   ],
   "source": [
    "sarr1 = make_obs(deg2rad(angle1 +1), deg2rad(angle2), deg2rad(roc_angle1), deg2rad(roc_angle2),\n",
    "               m1, m2, l1, l2, deg2rad(noise_pos), deg2rad(noise_vel), g, time_step, length_of_integration )\n",
    "\n",
    "plt.plot(range(0, len(sarr)), [s[0] for s in sarr])\n",
    "plt.plot(range(0, len(sarr1)), [s[0] for s in sarr1], color='r')\n",
    "plt.show()"
   ]
  },
  {
   "cell_type": "markdown",
   "metadata": {},
   "source": [
    "### 损失函数\n",
    "\n",
    "损失函数由两部分组成，$J_B$衡量与背景的差异，$J_O$衡量与观测的差异。公式如下：\n",
    "\n",
    "$$\n",
    "\\begin{align}\n",
    "J[x] &= \\frac{1}{2}(x_B-x)^TB^{-1}(x_B-x) + \\frac{1}{2}\\sum_{t=0}^{\\Delta t}(y(t)-H_t^o[x(t)])^TE^{-1}(y(t)-H_t^o[x(t)]) \\\\\n",
    "&=J_B + J_O\n",
    "\\end{align}\n",
    "$$\n",
    "\n",
    "- $x_B$：表示背景场的状态，\n",
    "- $x$：表示估计出来的系统状态，通常为模型输出\n",
    "- $y(t)$：表示t时刻的观测值\n",
    "- $x(t)$：表示t时刻的估计状态\n",
    "- $H_t^o$：表示观测算子，因为模型估计状态与观测状态不一定可以相互比较，需要进行转换\n",
    "- $H_t^o[x(t)]$：表示将模型输出状态换后可以与观测状态可比较的状态量\n",
    "- $E$：观测误差协方差矩阵\n",
    "- $B$：背景误差协方差矩阵\n",
    "\n",
    "$J_B$和$J_O$形式上类似，分别用于衡量背景误差和观测误差。\n",
    "其中协方差$B$和$E$用于衡量被估计的量对系统误差的贡献，整项乘积即代表系统误差。"
   ]
  },
  {
   "cell_type": "markdown",
   "metadata": {},
   "source": [
    "#### 背景场计算\n",
    "\n",
    "同化系统开始时，背景状态量为初始值；\\\n",
    "同化系统正在运行时，背景状态量为上一个窗口的最后的状态；"
   ]
  },
  {
   "cell_type": "code",
   "execution_count": 15,
   "metadata": {
    "pycharm": {
     "is_executing": false
    }
   },
   "outputs": [],
   "source": [
    "\n",
    "def background(s0, s):\n",
    "    '''\n",
    "    获取背景状态量\n",
    "    \n",
    "    s0: 窗口初始状态量\n",
    "    s: 前一个窗口的状态量，窗口状态量\n",
    "    '''\n",
    "    \n",
    "    if len(s) == 0:\n",
    "        return s0\n",
    "    \n",
    "    return s[len(s) - 1]\n",
    "        \n"
   ]
  },
  {
   "cell_type": "markdown",
   "metadata": {},
   "source": [
    "#### 计算当前窗口中所有的状态值"
   ]
  },
  {
   "cell_type": "code",
   "execution_count": 16,
   "metadata": {
    "pycharm": {
     "is_executing": false
    }
   },
   "outputs": [],
   "source": [
    "def forward_model(initial_state, times, dt, m1, m2, l1, l2, g):\n",
    "    '''\n",
    "    计算窗口各时刻的状态量，initial_state中角度都为弧度，需提前转换\n",
    "    \n",
    "    initial_state: 窗口初始状态量\n",
    "    times: 模拟总步长\n",
    "    dt: 时间步长\n",
    "    '''\n",
    "    sarr = []\n",
    "    state = initial_state\n",
    "    for i in range(0,times):\n",
    "        sarr.append(state)\n",
    "        state = runge_kutt_4(state[0],state[1],state[2],state[3], m1, m2, l1, l2, g, dt)\n",
    "        \n",
    "    return sarr\n",
    "\n",
    "def calc_background(bg_state, bg_true):\n",
    "    \"\"\"\n",
    "    bg_state: 背景场状态\n",
    "    bg_true: 背景场真值，用窗口均值替代\n",
    "    \"\"\"\n",
    "    return np.matmul(bg_state - bg_true, (bg_state - bg_true).transpose())\n",
    "\n",
    "def calc_background_true(states_in_window):\n",
    "    \"\"\"\n",
    "    利用窗口内的均值作为真值\n",
    "    states_in_window：窗口内所有时刻的状态\n",
    "    \"\"\"\n",
    "    return np.mean(states_in_window, axis = 0)\n",
    "\n",
    "def calc_background_inverse(bg_co_mat):\n",
    "    \"\"\"\n",
    "    求Background的逆\n",
    "    background：背景协方差矩阵\n",
    "    \"\"\"\n",
    "    return np.linalg.inv(bg_co_mat)\n",
    "\n",
    "\n",
    "#Gradient Function\n",
    "def gradient_f(x, f):\n",
    "    assert (x.shape[0] >= x.shape[1]), \"the vector should be a column vector\"\n",
    "    x = x.astype(float)\n",
    "    N = x.shape[0]\n",
    "    gradient = []\n",
    "    for i in range(N):\n",
    "        eps = abs(x[i]) *  np.finfo(np.float32).eps \n",
    "        xx0 = 1. * x[i]\n",
    "        f0 = f(x)\n",
    "        x[i] = x[i] + eps\n",
    "        f1 = f(x)\n",
    "        gradient.append(np.asscalar(np.array([f1 - f0]))/eps)\n",
    "        x[i] = xx0\n",
    "    return np.array(gradient).reshape(x.shape)\n",
    "\n",
    "#Hessian Matrix\n",
    "def hessian (x, the_func):\n",
    "    N = x.shape[0]\n",
    "    hessian = np.zeros((N,N)) \n",
    "    gd_0 = gradient_f( x, the_func)\n",
    "    eps = np.linalg.norm(gd_0) * np.finfo(np.float32).eps \n",
    "    for i in range(N):\n",
    "        xx0 = 1.*x[i]\n",
    "        x[i] = xx0 + eps\n",
    "        gd_1 =  gradient_f(x, the_func)\n",
    "        hessian[:,i] = ((gd_1 - gd_0)/eps).reshape(x.shape[0])\n",
    "        x[i] =xx0\n",
    "    return hessian\n",
    "\n",
    "def get_obs_in_cycle(obs, st, et):\n",
    "    obs_in_cycle = []\n",
    "    \n",
    "    for o in obs:\n",
    "        \n",
    "        if o[0] >= st and o[0] < et:\n",
    "            obs_in_cycle.append(o)\n",
    "    \n",
    "    return obs_in_cycle\n",
    "\n",
    "\n",
    "def find_model_state_match_obs(model_state, obs_state):\n",
    "    match_state = []\n",
    "    \n",
    "    for os in obs_state:\n",
    "        for ms in model_state:\n",
    "            if os[0] == ms[0]:\n",
    "                match_state.append(ms)\n",
    "                \n",
    "    return match_state\n",
    "        "
   ]
  },
  {
   "cell_type": "code",
   "execution_count": 18,
   "metadata": {},
   "outputs": [
    {
     "data": {
      "image/png": "[encoded data removed]",
      "text/plain": [
       "<Figure size 432x288 with 1 Axes>"
      ]
     },
     "metadata": {
      "needs_background": "light"
     },
     "output_type": "display_data"
    }
   ],
   "source": [
    "marr = find_model_state_match_obs(sarr, oarr)\n",
    "\n",
    "plt.scatter([s[0] for s in marr] ,[s[2] for s in marr], color='b')\n",
    "plt.scatter([s[0] for s in oarr] ,[s[2] for s in oarr], color='r')\n",
    "plt.show()"
   ]
  },
  {
   "cell_type": "code",
   "execution_count": 24,
   "metadata": {
    "pycharm": {
     "is_executing": false,
     "name": "#%%\n"
    }
   },
   "outputs": [],
   "source": [
    "import numpy as np\n",
    "\n",
    "def J(x):\n",
    "    return J_O(x) + J_B(x)\n",
    "    pass\n",
    "\n",
    "def J_O(x):\n",
    "    pass\n",
    "\n",
    "def J_B(states_in_window, bg_state, bg_co_mat_inv ):\n",
    "    \"\"\"\n",
    "    计算背景的损失\n",
    "    \"\"\"\n",
    "    return np.matmul(np.matmul(bg_state - states_in_window, bg_co_mat_inv), bg_state - states_in_window)\n",
    "    \n",
    "    pass\n",
    "\n"
   ]
  },
  {
   "cell_type": "markdown",
   "metadata": {
    "pycharm": {
     "name": "#%% md\n"
    }
   },
   "source": [
    "#### 同化过程"
   ]
  },
  {
   "cell_type": "code",
   "execution_count": null,
   "outputs": [],
   "source": [
    "def assim_4dvar(initial_state, obs_states, window_size, total_steps, dt):\n",
    "    '''\n",
    "    同化过程主函数\n",
    "    \n",
    "    initial_state: 初始状态\n",
    "    \n",
    "    '''\n",
    "    # 运行时状态\n",
    "    running_state = []\n",
    "    \n",
    "    # 循环迭代次数\n",
    "    cycles = int(total_steps / window_size)\n",
    "    if total_steps % window_size  > 0:\n",
    "        cycles += 1\n",
    "    \n",
    "    for i in range(0, cycles):\n",
    "    \n",
    "        # step1: 设置背景状态\n",
    "        bg_state = background(initial_state, running_state)\n",
    "\n",
    "        # 设置线性状态\n",
    "        linear_state = bg_state\n",
    "\n",
    "        # 获取cycle内的观测状态\n",
    "        obs_in_cycle = get_obs_in_cycle(obs_states, window_size * i, window_size * i + window_size - 1)\n",
    "        \n",
    "        # 当有观测的时候需要计算观测的误差\n",
    "        if len(obs_in_cycle) > 0:\n",
    "            \n",
    "            # 背景摄动\n",
    "            diff_bg_state = bg_state - linear_state\n",
    "            \n",
    "            # 通过前向模式获取当前窗口中所有时刻状态\n",
    "            state_in_cycle = forward_model(linear_state, window_size, dt, m1, m2, l1, l2, g)\n",
    "            \n",
    "            # 获取与与观测时间相匹配的模型输出数据\n",
    "            match_state_in_cycle = find_model_state_match_obs(state_in_cycle, obs_in_cycle)\n",
    "        \n",
    "            "
   ],
   "metadata": {
    "collapsed": false,
    "pycharm": {
     "name": "#%%\n"
    }
   }
  },
  {
   "cell_type": "code",
   "execution_count": null,
   "metadata": {
    "pycharm": {
     "is_executing": false
    }
   },
   "outputs": [],
   "source": [
    "### 前向模式\n"
   ]
  },
  {
   "cell_type": "markdown",
   "metadata": {},
   "source": [
    "### 前向模式\n"
   ]
  },
  {
   "cell_type": "markdown",
   "metadata": {
    "pycharm": {
     "is_executing": false
    }
   },
   "source": []
  },
  {
   "cell_type": "markdown",
   "metadata": {},
   "source": [
    "### 反向模式 "
   ]
  },
  {
   "cell_type": "code",
   "execution_count": null,
   "metadata": {
    "pycharm": {
     "is_executing": false
    }
   },
   "outputs": [],
   "source": []
  },
  {
   "cell_type": "code",
   "execution_count": null,
   "metadata": {
    "pycharm": {
     "is_executing": false
    }
   },
   "outputs": [],
   "source": []
  },
  {
   "cell_type": "markdown",
   "metadata": {
    "pycharm": {
     "is_executing": false
    }
   },
   "source": [
    "$$ C = \\{w_1, w_2, w_3, ..., w_{N}\\}$$\n",
    "语料中长度为s的n-gram可以用一个序列$g_s$来表示 $$ g_s = w_iw_{i+1}...w_{i+s} \\in G_s, i \\in [0, N - s ] $$\n",
    "$G_s$表示语料C中所有长度为s的ngrame的集合，大小为$L_s = N - s$。\\\n",
    "把$g_s$分为两部分，分别用$a$和$b$表示。\n",
    "$$\n",
    "G_s = concat\\{a, b\\} \\\\\n",
    "a = w_i w_{i+1}... w_{k-1} \\\\\n",
    "b = w_k, w_{k+1}...w_{i + s} \\\\\n",
    "k \\in (i, i + s)$$\n",
    "\n",
    "$g_s | a_{g_s} = \\dot a $ 表示长度为s的ngram可以$\\dot a$为前缀 \\\n",
    "$g_s | b_{g_s} = \\dot b $ 表示长度为s的ngram可以$\\dot b$为结尾 \\\n",
    "\n",
    "$f_a^s = Count(g_s | a_{g_s} = a)$ \\\n",
    "$f_b^s = Count(g_s | b_{g_s} = b)$ \\\n",
    "$f_{ab}^s = Count(g_s | g_s = g_{ab})$\n",
    "\n",
    "针对每一个g_s有，存在一组$\\hat a_{gs}, \\hat b_{gs}$ $g_s = Concat\\{\\hat a_{gs}, \\hat b_{gs}\\}$ 使得 $MP_{gs}$ 最小,\n",
    "\n",
    "$PATI_{gs} = MP_{gs} X AT_{gs} X F_{gs} $ , PS，这里要判断，MP最小 PATI是否是最小，如果是，就说取PATI在gs下的最小值，如果不是就按MP最小来说\n",
    "\n",
    "\n"
   ]
  },
  {
   "cell_type": "code",
   "execution_count": null,
   "metadata": {
    "pycharm": {
     "is_executing": false
    }
   },
   "outputs": [],
   "source": []
  }
 ],
 "metadata": {
  "kernelspec": {
   "display_name": "Python 3",
   "language": "python",
   "name": "python3"
  },
  "language_info": {
   "codemirror_mode": {
    "name": "ipython",
    "version": 3
   },
   "file_extension": ".py",
   "mimetype": "text/x-python",
   "name": "python",
   "nbconvert_exporter": "python",
   "pygments_lexer": "ipython3",
   "version": "3.7.1"
  },
  "pycharm": {
   "stem_cell": {
    "cell_type": "raw",
    "source": [],
    "metadata": {
     "collapsed": false
    }
   }
  }
 },
 "nbformat": 4,
 "nbformat_minor": 4
}